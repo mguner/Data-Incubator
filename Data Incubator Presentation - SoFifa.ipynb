{
 "cells": [
  {
   "cell_type": "code",
   "execution_count": 14,
   "metadata": {},
   "outputs": [],
   "source": [
    "import pandas as pd\n",
    "import numpy as np\n",
    "from datetime import datetime\n",
    "import time\n",
    "from datetime import date\n",
    "\n",
    "from sklearn.linear_model import LinearRegression\n",
    "from sklearn.model_selection import cross_val_predict\n",
    "from sklearn.model_selection import cross_val_score, KFold\n",
    "from sklearn import linear_model\n",
    "\n",
    "import matplotlib.pyplot as plt"
   ]
  },
  {
   "cell_type": "code",
   "execution_count": 15,
   "metadata": {},
   "outputs": [],
   "source": [
    "def df_create():\n",
    "    df_50 = pd.read_csv('player_list_50.csv')\n",
    "    df_100 = pd.read_csv('player_list_100.csv')\n",
    "    df_150 = pd.read_csv('player_list_150.csv')\n",
    "    df_200 = pd.read_csv('player_list_200.csv')\n",
    "    df_226 = pd.read_csv('player_list_226.csv')\n",
    "    df = df_100.append([df_50,df_150, df_200,df_226], ignore_index= True).reset_index(drop = True)\n",
    "    return df\n",
    "\n",
    "def data_prep(df):\n",
    "    cols =['full_name', 'player_id', 'age','rating', 'potential', 'club', 'release_clause', \n",
    "           'club_joined', 'contract_valid', 'value', 'wage', 'preff_foot', 'Acceleration', \n",
    "           'Aggression', 'Agility', 'Balance', 'Ball Control', 'Composure', 'Crossing', \n",
    "           'Curve', 'DOB', 'Dribbling', 'Finishing', 'GK Diving', 'GK Handling', 'GK Kicking',\n",
    "           'GK Positioning', 'GK Reflexes', 'Heading Accuracy', 'Interceptions', 'Jumping', \n",
    "           'Long Passing', \n",
    "           'Long Shots', 'Marking', 'Penalties', 'Positioning',\n",
    "           'Reactions', 'Short Passing', 'Shot Power', 'Sliding Tackle',\n",
    "           'Sprint Speed', 'Stamina', 'Standing Tackle', 'Strength', 'Vision',\n",
    "           'Volleys', 'club_jersey', 'club_pos', 'role',\n",
    "           'country', 'country_jersey', 'country_pos',\n",
    "           'country_rating','height', 'international_rep', \n",
    "           'traits', 'weight', 'LS', 'ST', 'RS', 'LW', 'LF', 'CF', 'RF', 'RW', 'LAM', 'CAM', 'RAM', 'LM',\n",
    "           'LCM', 'CM', 'RCM', 'RM', \n",
    "           'LWB', 'LDM', 'CDM', 'RDM',\n",
    "           'RWB', 'LB', 'LCB', \n",
    "           'CB', 'RCB', 'RB']\n",
    "\n",
    "    df['value'] = df['value'].apply(lambda x: float(x.strip('M'))*10**6 if 'M' in x  else (float(x.strip('K'))*10**3 if ('K' in x) else float(x) ))\n",
    "    df['wage'] = df['wage'].apply(lambda x: float(x.strip('K'))*10**3 if 'K' in x  else 0 )\n",
    "    df['release_clause'] = df['release_clause'].apply(lambda x: float(x.strip('M'))*10**6 if ((type(x) != float) and ('M' in x)) else (float(x.strip('K'))*10**3 if ((type(x) != float) and ('K' in x)) else 0 ))\n",
    "    df['contract_valid'] = df['contract_valid'].apply(lambda x: int(x.split(',')[-1]))\n",
    "    df['club_joined'] = df['club_joined'].apply(lambda x: datetime.strptime(x.replace(',', '').replace(' ', '-'), '%b-%d-%Y').date() if not 'Loaned' in x else date.today())\n",
    "    df['traits'] = df.traits.fillna(0).apply(lambda x: len(x) if (type(x) != int) else 0)\n",
    "    df['preff_foot'] = df.preff_foot.fillna(2).apply(lambda x: 1 if (x == 'Right') else 0)\n",
    "    return df[cols]\n",
    "\n",
    "def df_reg(df):\n",
    "    \n",
    "\n",
    "    reg_cols = [ 'age','preff_foot', 'Acceleration', 'Aggression',\n",
    "               'Agility', 'Balance', 'Ball Control',\n",
    "               'Composure', 'Crossing', 'Curve','Dribbling', 'Finishing',\n",
    "               'GK Diving', 'GK Handling', 'GK Kicking',\n",
    "               'GK Positioning', 'GK Reflexes', 'Heading Accuracy', \n",
    "               'Interceptions', 'Jumping', 'Long Passing', \n",
    "               'Long Shots', 'Marking', 'Penalties', 'Positioning',\n",
    "               'Reactions', 'Short Passing', 'Shot Power', 'Sliding Tackle',\n",
    "               'Sprint Speed', 'Stamina', 'Standing Tackle', 'Strength', 'Vision',\n",
    "               'Volleys', 'height', 'international_rep', \n",
    "               'traits', 'weight', 'LS', 'ST', 'RS', 'LW', 'LF', 'CF', 'RF', 'RW', 'LAM', 'CAM', 'RAM', 'LM',\n",
    "               'LCM', 'CM', 'RCM', 'RM', \n",
    "               'LWB', 'LDM', 'CDM', 'RDM',\n",
    "               'RWB', 'LB', 'LCB', \n",
    "               'CB', 'RCB', 'RB']\n",
    "    df_reg = df[df.release_clause > 0].dropna(how = 'any')\n",
    "    X = df_reg[reg_cols].values\n",
    "    y = df_reg['release_clause']\n",
    "    return X,y, df_reg\n",
    "\n",
    "def model_reg(X,y):\n",
    "    lr = linear_model.LinearRegression()\n",
    "    scores = cross_val_score(lr, X, y, cv= KFold(5, True))\n",
    "    predicted = cross_val_predict(lr, X, y, cv=5)\n",
    "    return scores, predicted\n",
    "\n",
    "def plot_reg(predicted, y):\n",
    "    fig, ax = plt.subplots()\n",
    "    ax.scatter(y, predicted, edgecolors=(0, 0, 0))\n",
    "    ax.plot([y.min(), y.max()], [y.min(), y.max()], 'k--', lw=4)\n",
    "    ax.set_xlabel('Measured')\n",
    "    ax.set_ylabel('Predicted')\n",
    "    plt.show()\n",
    "    return "
   ]
  },
  {
   "cell_type": "code",
   "execution_count": 16,
   "metadata": {},
   "outputs": [
    {
     "name": "stderr",
     "output_type": "stream",
     "text": [
      "/Users/abbycg/anaconda3/lib/python3.6/site-packages/pandas/core/frame.py:6201: FutureWarning: Sorting because non-concatenation axis is not aligned. A future version\n",
      "of pandas will change to not sort by default.\n",
      "\n",
      "To accept the future behavior, pass 'sort=True'.\n",
      "\n",
      "To retain the current behavior and silence the warning, pass sort=False\n",
      "\n",
      "  sort=sort)\n"
     ]
    },
    {
     "data": {
      "image/png": "[encoded data removed]",
      "text/plain": [
       "<Figure size 432x288 with 1 Axes>"
      ]
     },
     "metadata": {},
     "output_type": "display_data"
    }
   ],
   "source": [
    "df = data_prep(df_create())\n",
    "X, y = df_reg(df)[0:2]\n",
    "scores, predicted = model_reg(X,y)\n",
    "\n",
    "plot_reg(predicted,y)"
   ]
  },
  {
   "cell_type": "code",
   "execution_count": null,
   "metadata": {},
   "outputs": [],
   "source": []
  }
 ],
 "metadata": {
  "kernelspec": {
   "display_name": "Python 3",
   "language": "python",
   "name": "python3"
  },
  "language_info": {
   "codemirror_mode": {
    "name": "ipython",
    "version": 3
   },
   "file_extension": ".py",
   "mimetype": "text/x-python",
   "name": "python",
   "nbconvert_exporter": "python",
   "pygments_lexer": "ipython3",
   "version": "3.6.5"
  }
 },
 "nbformat": 4,
 "nbformat_minor": 2
}
